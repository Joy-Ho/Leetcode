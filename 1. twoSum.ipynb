{
 "cells": [
  {
   "cell_type": "code",
   "execution_count": 1,
   "id": "da316534",
   "metadata": {},
   "outputs": [
    {
     "data": {
      "text/plain": [
       "[0, 2]"
      ]
     },
     "execution_count": 1,
     "metadata": {},
     "output_type": "execute_result"
    }
   ],
   "source": [
    "# twoSum_solution1\n",
    "class Solution(object):\n",
    "    def twoSum(self, nums, target):\n",
    "        for index, value in enumerate(nums):\n",
    "            for i in range(index-1, -1, -1):\n",
    "                if(nums[index] + nums[i] == target):\n",
    "                    result = [i, index]\n",
    "                    return(result)\n",
    "        \n",
    "nums = [3,2,3]\n",
    "target = 6\n",
    "Ans = Solution()\n",
    "Ans.twoSum(nums, target)"
   ]
  },
  {
   "cell_type": "code",
   "execution_count": 2,
   "id": "53f91b08",
   "metadata": {},
   "outputs": [
    {
     "data": {
      "text/plain": [
       "[1, 2]"
      ]
     },
     "execution_count": 2,
     "metadata": {},
     "output_type": "execute_result"
    }
   ],
   "source": [
    "# twoSum_solution2\n",
    "class Solution(object):\n",
    "    def twoSum(self, nums, target):\n",
    "        diff = {}\n",
    "        for idx, num in enumerate(nums):\n",
    "            if diff.get(num, None) == None:\n",
    "                diff[target-num] = idx\n",
    "            else:\n",
    "                return [diff[num], idx]\n",
    "nums = [3,2,4]\n",
    "target = 6\n",
    "Ans = Solution()\n",
    "Ans.twoSum(nums, target)"
   ]
  },
  {
   "cell_type": "code",
   "execution_count": null,
   "id": "3d1d7bc0",
   "metadata": {},
   "outputs": [],
   "source": []
  }
 ],
 "metadata": {
  "kernelspec": {
   "display_name": "Python 3 (ipykernel)",
   "language": "python",
   "name": "python3"
  },
  "language_info": {
   "codemirror_mode": {
    "name": "ipython",
    "version": 3
   },
   "file_extension": ".py",
   "mimetype": "text/x-python",
   "name": "python",
   "nbconvert_exporter": "python",
   "pygments_lexer": "ipython3",
   "version": "3.9.13"
  }
 },
 "nbformat": 4,
 "nbformat_minor": 5
}
