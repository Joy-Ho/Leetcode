{
 "cells": [
  {
   "cell_type": "code",
   "execution_count": 51,
   "id": "1bf7fd34",
   "metadata": {},
   "outputs": [
    {
     "name": "stdout",
     "output_type": "stream",
     "text": [
      "7\n"
     ]
    }
   ],
   "source": [
    "# Solution 1\n",
    "class TreeNode:\n",
    "    def __init__(self, val, left = None, right = None):\n",
    "        self.val = val\n",
    "        self.left = left\n",
    "        self.right = right\n",
    "        \n",
    "def insert(temp,data):\n",
    "    que = []\n",
    "    que.append(temp)\n",
    "    while (len(que)):\n",
    "        temp = que[0]\n",
    "        que.pop(0)\n",
    "        if (not temp.left):\n",
    "            temp.left = TreeNode(data)\n",
    "            break\n",
    "        else:\n",
    "            que.append(temp.left)\n",
    "        if (not temp.right):\n",
    "            temp.right = TreeNode(data)\n",
    "            break\n",
    "        else:\n",
    "            que.append(temp.right)\n",
    "\n",
    "def make_tree(elements):\n",
    "    Tree = TreeNode(elements[0])\n",
    "    for element in elements[1:]:\n",
    "        insert(Tree, element)\n",
    "    return Tree\n",
    "\n",
    "\n",
    "class Solution(object):\n",
    "    def kthSmallest(self, root, k):\n",
    "        nodes = []\n",
    "        self.inorder(root,nodes)\n",
    "        return nodes[k-1]\n",
    "    \n",
    "    def inorder(self, root,nodes):\n",
    "        if root == None:\n",
    "            return\n",
    "        self.inorder(root.left, nodes)\n",
    "        nodes.append(root.val)\n",
    "        self.inorder(root.right, nodes)\n",
    "        \n",
    "        \n",
    "ob1 = Solution()\n",
    "tree = make_tree([10,5,15,2,7,13])\n",
    "print(ob1.kthSmallest(tree, 3))\n"
   ]
  },
  {
   "cell_type": "code",
   "execution_count": null,
   "id": "f9c71625",
   "metadata": {},
   "outputs": [],
   "source": []
  },
  {
   "cell_type": "code",
   "execution_count": 43,
   "id": "8cadd174",
   "metadata": {},
   "outputs": [],
   "source": [
    "# ??????????????????\n",
    "class TreeNode(object):\n",
    "    def __init__(self, val=0, left=None, right=None):\n",
    "        self.val = val\n",
    "        self.left = left\n",
    "        self.right = right\n",
    "        \n",
    "class Solution(object):\n",
    "    def kthSmallest(self, root, k):\n",
    "        n =0\n",
    "        stack = []\n",
    "        cur = root\n",
    "\n",
    "        while cur and stack:\n",
    "            while cur:\n",
    "                stack.append(cur)\n",
    "                cur = cur.left\n",
    "\n",
    "            cur = stack.pop()\n",
    "            n += 1\n",
    "            if n == k:\n",
    "                return cur.val\n",
    "            cur = cur.right\n",
    "\n",
    "result = Solution()\n",
    "result.kthSmallest([3,1,4,2], 1)"
   ]
  },
  {
   "cell_type": "code",
   "execution_count": null,
   "id": "4ba1ec5a",
   "metadata": {},
   "outputs": [],
   "source": []
  },
  {
   "cell_type": "code",
   "execution_count": null,
   "id": "4e247ae7",
   "metadata": {},
   "outputs": [],
   "source": []
  },
  {
   "cell_type": "code",
   "execution_count": 38,
   "id": "1d6f023e",
   "metadata": {},
   "outputs": [
    {
     "data": {
      "text/plain": [
       "2"
      ]
     },
     "execution_count": 38,
     "metadata": {},
     "output_type": "execute_result"
    }
   ],
   "source": [
    "# Solution 2\n",
    "\n",
    "class TreeNode(object):\n",
    "    def __init__(self, val=0, left=None, right=None):\n",
    "        self.val = val\n",
    "        self.left = left\n",
    "        self.right = right\n",
    "\n",
    "def insert(temp,data):\n",
    "    que = []\n",
    "    que.append(temp)\n",
    "    while (len(que)):\n",
    "        temp = que[0]\n",
    "        que.pop(0)\n",
    "        if (not temp.left):\n",
    "            temp.left = TreeNode(data)\n",
    "            break\n",
    "        else:\n",
    "            que.append(temp.left)\n",
    "        if (not temp.right):\n",
    "            temp.right = TreeNode(data)\n",
    "            break\n",
    "        else:\n",
    "            que.append(temp.right)        \n",
    "\n",
    "def make_tree(elements):\n",
    "    Tree = TreeNode(elements[0])\n",
    "    for element in elements[1:]:\n",
    "        insert(Tree, element)\n",
    "    return Tree\n",
    "        \n",
    "class Solution(object):\n",
    "    def kthSmallest(self, root, k):\n",
    "        \n",
    "        list = []\n",
    "        \n",
    "        def inorder(root):\n",
    "            if root.left:\n",
    "                inorder(root.left)\n",
    "            list.append(root.val)\n",
    "            if root.right:\n",
    "                inorder(root.right)\n",
    "                \n",
    "        inorder(root)\n",
    "        return(sorted(list)[k-1])\n",
    "\n",
    "    \n",
    "result = Solution()\n",
    "tree = make_tree([10,5,15,2,7,13])\n",
    "result.kthSmallest(tree, 1)     "
   ]
  },
  {
   "cell_type": "code",
   "execution_count": null,
   "id": "e319e4ac",
   "metadata": {},
   "outputs": [],
   "source": []
  },
  {
   "cell_type": "code",
   "execution_count": null,
   "id": "b26957ba",
   "metadata": {},
   "outputs": [],
   "source": []
  }
 ],
 "metadata": {
  "kernelspec": {
   "display_name": "Python 3 (ipykernel)",
   "language": "python",
   "name": "python3"
  },
  "language_info": {
   "codemirror_mode": {
    "name": "ipython",
    "version": 3
   },
   "file_extension": ".py",
   "mimetype": "text/x-python",
   "name": "python",
   "nbconvert_exporter": "python",
   "pygments_lexer": "ipython3",
   "version": "3.9.13"
  }
 },
 "nbformat": 4,
 "nbformat_minor": 5
}
