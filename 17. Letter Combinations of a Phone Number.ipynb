{
 "cells": [
  {
   "cell_type": "code",
   "execution_count": 4,
   "id": "074d3734",
   "metadata": {},
   "outputs": [
    {
     "data": {
      "text/plain": [
       "['ad', 'ae', 'af', 'bd', 'be', 'bf', 'cd', 'ce', 'cf']"
      ]
     },
     "execution_count": 4,
     "metadata": {},
     "output_type": "execute_result"
    }
   ],
   "source": [
    "class Solution(object):\n",
    "    def letterCombinations(self, input):\n",
    "        \n",
    "        dict = {0:[],\n",
    "                2:[\"a\", \"b\", \"c\"],\n",
    "                3:[\"d\", \"e\", \"f\"],\n",
    "                4:[\"g\", \"h\", \"i\"],\n",
    "                5:[\"j\", \"k\", \"l\"],\n",
    "                6:[\"m\", \"n\", \"o\"],\n",
    "                7:[\"p\", \"q\", \"r\", \"s\"],\n",
    "                8:[\"t\", \"u\", \"v\"],\n",
    "                9:[\"w\",\"x\", \"y\",\"z\"]}\n",
    "        list =[]\n",
    "\n",
    "        if (len(input) == 0):\n",
    "            first_num = 0\n",
    "            second_num = 0\n",
    "            third_num = 0\n",
    "            fourth_num = 0\n",
    "\n",
    "        if (len(input) == 1):\n",
    "            first_num = int(input[0])\n",
    "            second_num = 0\n",
    "            third_num = 0\n",
    "            fourth_num = 0\n",
    "            return(dict.get(first_num))\n",
    "\n",
    "        if (len(input) == 2):\n",
    "            first_num = int(input[0])\n",
    "            second_num = int(input[1])\n",
    "            third_num = 0\n",
    "            fourth_num = 0\n",
    "            for i in range(len(dict.get(first_num))):\n",
    "                for j in range(len(dict.get(second_num))):\n",
    "                    letter = dict.get(first_num)[i]\n",
    "                    letter = letter + dict.get(second_num)[j]\n",
    "                    list = list + [letter]\n",
    "\n",
    "        if(len(input) == 3):\n",
    "            first_num = int(input[0])\n",
    "            second_num = int(input[1])\n",
    "            third_num = int(input[2])\n",
    "            fourth_num = 0\n",
    "            for i in range(len(dict.get(first_num))):\n",
    "                for j in range(len(dict.get(second_num))):\n",
    "                    for k in range(len(dict.get(third_num))):\n",
    "                        letter = dict.get(first_num)[i] + dict.get(second_num)[j] + dict.get(third_num)[k]\n",
    "                        list = list + [letter]\n",
    "\n",
    "        if(len(input) == 4):\n",
    "            first_num = int(input[0])\n",
    "            second_num = int(input[1])\n",
    "            third_num = int(input[2])\n",
    "            fourth_num = int(input[3])\n",
    "            for i in range(len(dict.get(first_num))):\n",
    "                for j in range(len(dict.get(second_num))):\n",
    "                    for k in range(len(dict.get(third_num))):\n",
    "                        for l in range(len(dict.get(fourth_num))):\n",
    "                            letter = dict.get(first_num)[i] + dict.get(second_num)[j] + dict.get(third_num)[k] + dict.get(fourth_num)[l]\n",
    "                            list = list + [letter]\n",
    "\n",
    "\n",
    "\n",
    "        return(list)   \n",
    "  \n",
    "\n",
    "result = Solution()\n",
    "result.letterCombinations(\"23\")"
   ]
  },
  {
   "cell_type": "code",
   "execution_count": 31,
   "id": "175f4613",
   "metadata": {},
   "outputs": [
    {
     "data": {
      "text/plain": [
       "['ad', 'ae', 'af', 'bd', 'be', 'bf', 'cd', 'ce', 'cf']"
      ]
     },
     "execution_count": 31,
     "metadata": {},
     "output_type": "execute_result"
    }
   ],
   "source": [
    "class Solution:\n",
    "    def letterCombinations(self, digits):\n",
    "        res = []\n",
    "        digitToChar ={\"2\": \"abc\",\n",
    "                      \"3\":\"def\",\n",
    "                      \"4\":\"ghi\",\n",
    "                      \"5\":\"jkl\",\n",
    "                      \"6\":\"mno\",\n",
    "                      \"7\":\"qprs\",\n",
    "                      \"8\":\"tuv\",\n",
    "                      \"9\":\"wxyz\"}\n",
    "        def backtrack(i, curStr):\n",
    "            if len(curStr) == len (digits):\n",
    "                res.append(curStr)\n",
    "                return\n",
    "            for c in digitToChar[digits[i]]:\n",
    "                backtrack(i+1, curStr+c)\n",
    "        \n",
    "        if digits:\n",
    "            backtrack(0,\"\")\n",
    "        \n",
    "        return res \n",
    "    \n",
    "    \n",
    "result = Solution()\n",
    "result.letterCombinations(\"23\")"
   ]
  },
  {
   "cell_type": "code",
   "execution_count": 112,
   "id": "7bf79abf",
   "metadata": {},
   "outputs": [
    {
     "name": "stdout",
     "output_type": "stream",
     "text": [
      "['adg', 'adh', 'adi', 'aeg', 'aeh', 'aei', 'afg', 'afh', 'afi', 'bdg', 'bdh', 'bdi', 'beg', 'beh', 'bei', 'bfg', 'bfh', 'bfi', 'cdg', 'cdh', 'cdi', 'ceg', 'ceh', 'cei', 'cfg', 'cfh', 'cfi']\n"
     ]
    }
   ],
   "source": [
    "class Solution:\n",
    "    def letterCombinations(self, digits):\n",
    "        phone_map = {\"2\": \"abc\",\n",
    "                      \"3\":\"def\",\n",
    "                      \"4\":\"ghi\",\n",
    "                      \"5\":\"jkl\",\n",
    "                      \"6\":\"mno\",\n",
    "                      \"7\":\"qprs\",\n",
    "                      \"8\":\"tuv\",\n",
    "                      \"9\":\"wxyz\"}\n",
    "        \n",
    "        if digits == \"\":\n",
    "            return []\n",
    "        \n",
    "        numbers = phone_map[digits[0]]\n",
    "        \n",
    "        for digit in digits[1:]:\n",
    "            numbers = [old+new for old in numbers for new in phone_map[digit]]\n",
    "            \n",
    "        return numbers\n",
    "    \n",
    "result = Solution()\n",
    "print(result.letterCombinations(\"234\"))"
   ]
  }
 ],
 "metadata": {
  "kernelspec": {
   "display_name": "Python 3 (ipykernel)",
   "language": "python",
   "name": "python3"
  },
  "language_info": {
   "codemirror_mode": {
    "name": "ipython",
    "version": 3
   },
   "file_extension": ".py",
   "mimetype": "text/x-python",
   "name": "python",
   "nbconvert_exporter": "python",
   "pygments_lexer": "ipython3",
   "version": "3.9.13"
  }
 },
 "nbformat": 4,
 "nbformat_minor": 5
}
